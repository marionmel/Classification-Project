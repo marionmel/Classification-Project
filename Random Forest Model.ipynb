{
 "cells": [
  {
   "cell_type": "code",
   "execution_count": 1,
   "id": "b7b73c66-b5e1-4806-95f8-754eb8f1e2d5",
   "metadata": {},
   "outputs": [
    {
     "name": "stdout",
     "output_type": "stream",
     "text": [
      "Model Accuracy: 0.7374\n"
     ]
    }
   ],
   "source": [
    "import pandas as pd\n",
    "from sklearn.model_selection import train_test_split\n",
    "from sklearn.ensemble import RandomForestClassifier\n",
    "from sklearn.metrics import accuracy_score\n",
    "\n",
    "# Load the dataset\n",
    "file_path = \"churn.xlsx\"\n",
    "xls = pd.ExcelFile(file_path)\n",
    "df = pd.read_excel(xls, sheet_name=\"Telco_Churn\")\n",
    "\n",
    "# Selecting the required features and target variable\n",
    "selected_features = [\n",
    "    \"Tenure Months\", \"Internet Service_Fiber optic\", \"Contract_Two year\",\n",
    "    \"Dependents_Yes\", \"Internet Service_No\", \"Online Backup_No internet service\",\n",
    "    \"Tech Support_No internet service\", \"Online Security_No internet service\",\n",
    "    \"Device Protection_No internet service\"\n",
    "]\n",
    "\n",
    "# Ensuring the selected features exist in the dataset\n",
    "existing_features = [feature for feature in selected_features if feature in df.columns]\n",
    "\n",
    "# Extracting features and target variable\n",
    "X = df[existing_features]\n",
    "y = df[\"Churn Value\"]\n",
    "\n",
    "# Splitting data into training and testing sets\n",
    "X_train, X_test, y_train, y_test = train_test_split(X, y, test_size=0.2, random_state=42)\n",
    "\n",
    "# Training the Random Forest model\n",
    "rf_model = RandomForestClassifier(n_estimators=100, random_state=42)\n",
    "rf_model.fit(X_train, y_train)\n",
    "\n",
    "# Making predictions\n",
    "y_pred = rf_model.predict(X_test)\n",
    "\n",
    "# Evaluating the model\n",
    "accuracy = accuracy_score(y_test, y_pred)\n",
    "print(f\"Model Accuracy: {accuracy:.4f}\")"
   ]
  },
  {
   "cell_type": "code",
   "execution_count": null,
   "id": "e9826e70-76e3-41a0-b3f0-943be5fc90ca",
   "metadata": {},
   "outputs": [],
   "source": []
  }
 ],
 "metadata": {
  "kernelspec": {
   "display_name": "Python 3 (ipykernel)",
   "language": "python",
   "name": "python3"
  },
  "language_info": {
   "codemirror_mode": {
    "name": "ipython",
    "version": 3
   },
   "file_extension": ".py",
   "mimetype": "text/x-python",
   "name": "python",
   "nbconvert_exporter": "python",
   "pygments_lexer": "ipython3",
   "version": "3.12.4"
  }
 },
 "nbformat": 4,
 "nbformat_minor": 5
}
